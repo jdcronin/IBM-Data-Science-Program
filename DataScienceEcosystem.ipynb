{
 "cells": [
  {
   "cell_type": "code",
   "execution_count": null,
   "id": "a8618c0c-820e-41da-a4e1-a33271b7b837",
   "metadata": {},
   "outputs": [],
   "source": [
    "# Data Science Tools and Ecosystem"
   ]
  },
  {
   "cell_type": "code",
   "execution_count": null,
   "id": "9b2c521e-0cb5-4bfd-9c69-6098bd72131e",
   "metadata": {},
   "outputs": [],
   "source": [
    "In this notebook, Data Science Tools and Ecosystem are summarized"
   ]
  },
  {
   "cell_type": "markdown",
   "id": "44dacc74-37cc-4cc1-bdaa-39a65381c836",
   "metadata": {},
   "source": [
    "**Objectives:**\n",
    "\n",
    "- List popular languages for Data Science.\n",
    "- Identify commonly used libraries for Data Science.\n",
    "- Create and display tables - Data Science Tools - using Python.\n",
    "- Understand basic open-source development tools for Data Science as well as some basic arithmetic code\n"
   ]
  },
  {
   "cell_type": "markdown",
   "id": "55a56081-30cc-4e23-a1f5-b627541677b1",
   "metadata": {},
   "source": [
    "Some of the popular languages that Data Scientists use are:  \n",
    "\n",
    "1. Python  \n",
    "2. R  \n",
    "3. SQL  \n",
    "4. Julia  \n",
    "5. Java  \n",
    "6. Scala  "
   ]
  },
  {
   "cell_type": "markdown",
   "id": "b4a1e05f-5f29-408c-864c-93a2c93353f9",
   "metadata": {},
   "source": [
    "Some of the commonly used libraries used by Data Scientists include:  \n",
    "\n",
    "1. NumPy  \n",
    "2. Pandas  \n",
    "3. Matplotlib  \n",
    "4. Scikit-learn  \n",
    "5. TensorFlow  "
   ]
  },
  {
   "cell_type": "code",
   "execution_count": null,
   "id": "bc6851a3-0054-4a7b-8664-707511d8ec60",
   "metadata": {},
   "outputs": [],
   "source": [
    "| Data Science Tools   |\n",
    "|----------------------|\n",
    "| Jupyter Notebook     |\n",
    "| RStudio              |\n",
    "| Apache Zeppelin      |\n"
   ]
  },
  {
   "cell_type": "code",
   "execution_count": null,
   "id": "b7d6c08e-952b-4cbe-82ee-027d57399bc5",
   "metadata": {},
   "outputs": [],
   "source": [
    "### Below are a few examples of evaluating arithmetic expressions in Python"
   ]
  },
  {
   "cell_type": "code",
   "execution_count": 9,
   "id": "75eb2d66-44a7-453c-8262-7d8383793579",
   "metadata": {},
   "outputs": [
    {
     "data": {
      "text/plain": [
       "17"
      ]
     },
     "execution_count": 9,
     "metadata": {},
     "output_type": "execute_result"
    }
   ],
   "source": [
    "(3*4)+5"
   ]
  },
  {
   "cell_type": "code",
   "execution_count": 10,
   "id": "7cbcff3a-a07a-4444-9eb6-1b75f7ef79cb",
   "metadata": {},
   "outputs": [
    {
     "data": {
      "text/plain": [
       "3.3333333333333335"
      ]
     },
     "execution_count": 10,
     "metadata": {},
     "output_type": "execute_result"
    }
   ],
   "source": [
    "# Code to convert minutes into hours\n",
    "# Convert 200 minutes into hours\n",
    "\n",
    "200/60 "
   ]
  },
  {
   "cell_type": "markdown",
   "id": "63d5ba66-eec0-4425-ae53-63983e2c21ac",
   "metadata": {},
   "source": [
    "## Author:\n",
    "J.D. Cronin, Jr."
   ]
  }
 ],
 "metadata": {
  "kernelspec": {
   "display_name": "Python [conda env:anaconda3_2] *",
   "language": "python",
   "name": "conda-env-anaconda3_2-py"
  },
  "language_info": {
   "codemirror_mode": {
    "name": "ipython",
    "version": 3
   },
   "file_extension": ".py",
   "mimetype": "text/x-python",
   "name": "python",
   "nbconvert_exporter": "python",
   "pygments_lexer": "ipython3",
   "version": "3.11.9"
  }
 },
 "nbformat": 4,
 "nbformat_minor": 5
}
